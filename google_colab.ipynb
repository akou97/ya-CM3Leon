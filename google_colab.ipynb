{
  "nbformat": 4,
  "nbformat_minor": 0,
  "metadata": {
    "colab": {
      "provenance": [],
      "gpuType": "T4"
    },
    "kernelspec": {
      "name": "python3",
      "display_name": "Python 3"
    },
    "language_info": {
      "name": "python"
    },
    "accelerator": "GPU"
  },
  "cells": [
    {
      "cell_type": "code",
      "execution_count": null,
      "metadata": {
        "id": "nFcyHB3nJJfC"
      },
      "outputs": [],
      "source": [
        "!pip install cm3"
      ]
    },
    {
      "cell_type": "code",
      "source": [
        "import torch\n",
        "from cm3.model import CM3\n",
        "\n",
        "model = CM3(\n",
        "    depth=24, dim=1536\n",
        ").to('cuda:0')"
      ],
      "metadata": {
        "id": "qgFeKWW8Jqlq"
      },
      "execution_count": null,
      "outputs": []
    },
    {
      "cell_type": "code",
      "source": [
        "img = torch.randn(1, 3, 256, 256)\n",
        "text = torch.randint(0, 20000, (1, 1024))\n",
        "\n",
        "output = model(text, img)"
      ],
      "metadata": {
        "id": "EbDaUcgpLI3o"
      },
      "execution_count": null,
      "outputs": []
    }
  ]
}