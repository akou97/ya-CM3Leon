{
  "nbformat": 4,
  "nbformat_minor": 0,
  "metadata": {
    "colab": {
      "provenance": [],
      "gpuType": "T4"
    },
    "kernelspec": {
      "name": "python3",
      "display_name": "Python 3"
    },
    "language_info": {
      "name": "python"
    },
    "accelerator": "GPU"
  },
  "cells": [
    {
      "cell_type": "code",
      "execution_count": null,
      "metadata": {
        "id": "nFcyHB3nJJfC"
      },
      "outputs": [],
      "source": [
        "!pip install cm3"
      ]
    },
    {
      "cell_type": "code",
      "source": [
        "import torch\n",
        "from cm3.model import CM3\n",
        "\n",
        "model = CM3() # Requires more than 12GB of RAM"
      ],
      "metadata": {
        "id": "qgFeKWW8Jqlq"
      },
      "execution_count": null,
      "outputs": []
    },
    {
      "cell_type": "code",
      "source": [
        "\n",
        "img = torch.randn(1, 3, 256, 256)\n",
        "text = torch.randint(0, 20000, (1, 1024))"
      ],
      "metadata": {
        "id": "EbDaUcgpLI3o"
      },
      "execution_count": null,
      "outputs": []
    },
    {
      "cell_type": "code",
      "source": [
        "output = model(text, img)"
      ],
      "metadata": {
        "id": "G_R0ka6QKxqY"
      },
      "execution_count": null,
      "outputs": []
    }
  ]
}